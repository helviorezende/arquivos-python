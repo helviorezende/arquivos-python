{
  "cells": [
    {
      "cell_type": "markdown",
      "metadata": {
        "id": "view-in-github",
        "colab_type": "text"
      },
      "source": [
        "<a href=\"https://colab.research.google.com/github/helviorezende/arquivos-python/blob/main/vacina.ipynb\" target=\"_parent\"><img src=\"https://colab.research.google.com/assets/colab-badge.svg\" alt=\"Open In Colab\"/></a>"
      ]
    },
    {
      "cell_type": "code",
      "execution_count": null,
      "id": "a5585439",
      "metadata": {
        "id": "a5585439"
      },
      "outputs": [],
      "source": [
        "import numpy as np\n",
        "import pandas as pd\n",
        "import matplotlib.pyplot as plt"
      ]
    },
    {
      "cell_type": "code",
      "execution_count": null,
      "id": "45c1881a",
      "metadata": {
        "id": "45c1881a"
      },
      "outputs": [],
      "source": [
        "import csv"
      ]
    },
    {
      "cell_type": "code",
      "execution_count": null,
      "id": "f0ea64a6",
      "metadata": {
        "id": "f0ea64a6"
      },
      "outputs": [],
      "source": [
        "#colunas = ['document_id','paciente_id','paciente_idade','paciente_dataNascimento','paciente_enumSexoBiologico','paciente_racaCor_codigo','paciente_racaCor_valor','paciente_endereco_coIbgeMunicipio','paciente_endereco_coPais','paciente_endereco_nmMunicipio','paciente_endereco_nmPais','paciente_endereco_uf','paciente_endereco_cep','paciente_nacionalidade_enumNacionalidade','estabelecimento_valor','estabelecimento_razaoSocial','estalecimento_noFantasia','estabelecimento_municipio_codigo','estabelecimento_municipio_nome','estabelecimento_uf','vacina_grupoAtendimento_codigo','vacina_grupoAtendimento_nome','vacina_categoria_codigo','vacina_categoria_nome','vacina_lote','vacina_fabricante_nome','vacina_fabricante_referencia','vacina_dataAplicacao','vacina_descricao_dose','vacina_codigo','vacina_nome','sistema_origem']\n",
        "colunas = ['paciente_idade','paciente_enumSexoBiologico','paciente_endereco_nmMunicipio','paciente_endereco_uf','vacina_grupoAtendimento_nome','vacina_dataAplicacao','vacina_descricao_dose','vacina_grupoAtendimento_nome','vacina_fabricante_nome','vacina_descricao_dose']"
      ]
    },
    {
      "cell_type": "code",
      "execution_count": null,
      "id": "d76a6ce2",
      "metadata": {
        "id": "d76a6ce2"
      },
      "outputs": [],
      "source": [
        "mg1 = pd.read_csv(\"C:/helvio/vacina/mg1.csv\", sep=';', parse_dates=['vacina_dataAplicacao'], usecols=colunas)"
      ]
    },
    {
      "cell_type": "code",
      "execution_count": null,
      "id": "963beda5",
      "metadata": {
        "id": "963beda5"
      },
      "outputs": [],
      "source": [
        "mg2 = pd.read_csv(\"C:/helvio/vacina/mg2.csv\", sep=';', parse_dates=['vacina_dataAplicacao'], usecols=colunas)"
      ]
    },
    {
      "cell_type": "code",
      "execution_count": null,
      "id": "36431c99",
      "metadata": {
        "id": "36431c99"
      },
      "outputs": [],
      "source": [
        "mg3 = pd.read_csv(\"C:/helvio/vacina/mg2.csv\", sep=';', parse_dates=['vacina_dataAplicacao'], usecols=colunas)"
      ]
    },
    {
      "cell_type": "code",
      "execution_count": null,
      "id": "be671b7c",
      "metadata": {
        "id": "be671b7c"
      },
      "outputs": [],
      "source": [
        "mg = pd.concat([mg1,mg2,mg3])"
      ]
    },
    {
      "cell_type": "code",
      "execution_count": null,
      "id": "bc82a665",
      "metadata": {
        "id": "bc82a665"
      },
      "outputs": [],
      "source": [
        "mg['ano'] = mg['vacina_dataAplicacao'].dt.year\n",
        "mg['mes'] = mg['vacina_dataAplicacao'].dt.month\n",
        "mg['dia'] = mg['vacina_dataAplicacao'].dt.day"
      ]
    },
    {
      "cell_type": "code",
      "execution_count": null,
      "id": "d1cb2882",
      "metadata": {
        "id": "d1cb2882"
      },
      "outputs": [],
      "source": [
        "mg['mes'].replace(1,'janeiro', inplace=True)\n",
        "mg['mes'].replace(2,'fevereiro', inplace=True)\n",
        "mg['mes'].replace(3,'marco', inplace=True)\n",
        "mg['mes'].replace(4,'abril', inplace=True)\n",
        "mg['mes'].replace(5,'maio', inplace=True)\n",
        "mg['mes'].replace(6,'junho', inplace=True)\n",
        "mg['mes'].replace(7,'julho', inplace=True)\n",
        "mg['mes'].replace(8,'agosto', inplace=True)\n",
        "mg['mes'].replace(9,'setembro', inplace=True)\n",
        "mg['mes'].replace(10,'outubro', inplace=True)\n",
        "mg['mes'].replace(11,'novembro', inplace=True)\n",
        "mg['mes'].replace(12,'dezembro', inplace=True)"
      ]
    },
    {
      "cell_type": "code",
      "execution_count": null,
      "id": "6c5669c3",
      "metadata": {
        "id": "6c5669c3",
        "outputId": "0dfe88cd-5a16-46eb-843d-dbafed9ad7e8"
      },
      "outputs": [
        {
          "name": "stderr",
          "output_type": "stream",
          "text": [
            "C:\\Users\\LUZIAH~1\\AppData\\Local\\Temp/ipykernel_3672/450133197.py:1: FutureWarning: Treating datetime data as categorical rather than numeric in `.describe` is deprecated and will be removed in a future version of pandas. Specify `datetime_is_numeric=True` to silence this warning and adopt the future behavior now.\n",
            "  mg['vacina_dataAplicacao'].describe()\n"
          ]
        },
        {
          "data": {
            "text/plain": [
              "count                38262655\n",
              "unique                    538\n",
              "top       2021-10-08 00:00:00\n",
              "freq                   284122\n",
              "first     1937-01-25 00:00:00\n",
              "last      2022-02-25 00:00:00\n",
              "Name: vacina_dataAplicacao, dtype: object"
            ]
          },
          "execution_count": 10,
          "metadata": {},
          "output_type": "execute_result"
        }
      ],
      "source": [
        "mg['vacina_dataAplicacao'].describe()"
      ]
    },
    {
      "cell_type": "code",
      "execution_count": null,
      "id": "86d18c3e",
      "metadata": {
        "id": "86d18c3e",
        "outputId": "091cff9a-5497-4ed0-d8be-79a9b3ed3883"
      },
      "outputs": [
        {
          "data": {
            "text/plain": [
              "2021-10-08    284122\n",
              "2021-10-14    279809\n",
              "2021-08-13    261972\n",
              "2021-08-27    250171\n",
              "2021-10-07    248456\n",
              "               ...  \n",
              "2019-01-20         1\n",
              "1981-11-02         1\n",
              "2020-11-26         1\n",
              "2020-07-09         1\n",
              "2020-02-01         1\n",
              "Name: vacina_dataAplicacao, Length: 538, dtype: int64"
            ]
          },
          "execution_count": 11,
          "metadata": {},
          "output_type": "execute_result"
        }
      ],
      "source": [
        "mg['vacina_dataAplicacao'].value_counts()"
      ]
    },
    {
      "cell_type": "code",
      "execution_count": null,
      "id": "d30e6465",
      "metadata": {
        "id": "d30e6465",
        "outputId": "ef65d384-5324-4020-ef9a-eb12ab78c470"
      },
      "outputs": [
        {
          "data": {
            "text/plain": [
              "1ª Dose                           17105028\n",
              "2ª Dose                           14500726\n",
              "Reforço                            5802191\n",
              "Dose                                465167\n",
              "Dose Adicional                      356603\n",
              "Única                                32411\n",
              "3ª Dose                                387\n",
              "2ª Dose Revacinação                     65\n",
              "1ª Dose Revacinação                     24\n",
              "Dose Inicial                            22\n",
              "1º Reforço                              17\n",
              "2º Reforço                               7\n",
              "3º Reforço                               4\n",
              "Tratamento com dezessete doses           2\n",
              "3ª Dose Revacinação                      1\n",
              "Name: vacina_descricao_dose, dtype: int64"
            ]
          },
          "execution_count": 12,
          "metadata": {},
          "output_type": "execute_result"
        }
      ],
      "source": [
        "mg['vacina_descricao_dose'].value_counts()"
      ]
    },
    {
      "cell_type": "code",
      "execution_count": null,
      "id": "a7871f20",
      "metadata": {
        "id": "a7871f20"
      },
      "outputs": [],
      "source": [
        "#pd.set_option('display.max_rows', None)"
      ]
    },
    {
      "cell_type": "code",
      "execution_count": null,
      "id": "ce02d482",
      "metadata": {
        "id": "ce02d482",
        "outputId": "d9535d83-bc64-4849-8277-4be03b0b7dbf"
      },
      "outputs": [
        {
          "data": {
            "text/plain": [
              "BELO HORIZONTE                4941817\n",
              "UBERLANDIA                    1387356\n",
              "CONTAGEM                      1045951\n",
              "JUIZ DE FORA                   851975\n",
              "BETIM                          826436\n",
              "                               ...   \n",
              "JOAO DIAS                           1\n",
              "PRACUUBA                            1\n",
              "PROTASIO ALVES                      1\n",
              "NOVA ESPERANCA DO SUDOESTE          1\n",
              "JARI                                1\n",
              "Name: paciente_endereco_nmMunicipio, Length: 5160, dtype: int64"
            ]
          },
          "execution_count": 14,
          "metadata": {},
          "output_type": "execute_result"
        }
      ],
      "source": [
        "mg['paciente_endereco_nmMunicipio'].value_counts()"
      ]
    },
    {
      "cell_type": "code",
      "execution_count": null,
      "id": "a020b24e",
      "metadata": {
        "id": "a020b24e",
        "outputId": "13862c33-3f14-459e-f654-7011d067fedc"
      },
      "outputs": [
        {
          "data": {
            "text/plain": [
              "numpy.datetime64('2022-02-25T00:00:00.000000000')"
            ]
          },
          "execution_count": 15,
          "metadata": {},
          "output_type": "execute_result"
        }
      ],
      "source": [
        "mg['vacina_dataAplicacao'].unique().max()"
      ]
    },
    {
      "cell_type": "code",
      "execution_count": null,
      "id": "5b86a7b9",
      "metadata": {
        "id": "5b86a7b9"
      },
      "outputs": [],
      "source": [
        "#pd.reset_option('^display.', silent=True)"
      ]
    },
    {
      "cell_type": "code",
      "execution_count": null,
      "id": "640baab0",
      "metadata": {
        "id": "640baab0",
        "outputId": "79ba545f-7870-43f6-e68f-6c5c54c3192d"
      },
      "outputs": [
        {
          "data": {
            "text/plain": [
              "Index(['paciente_idade', 'paciente_enumSexoBiologico',\n",
              "       'paciente_endereco_nmMunicipio', 'paciente_endereco_uf',\n",
              "       'vacina_grupoAtendimento_nome', 'vacina_fabricante_nome',\n",
              "       'vacina_dataAplicacao', 'vacina_descricao_dose', 'ano', 'mes', 'dia'],\n",
              "      dtype='object')"
            ]
          },
          "execution_count": 17,
          "metadata": {},
          "output_type": "execute_result"
        }
      ],
      "source": [
        "mg.columns"
      ]
    },
    {
      "cell_type": "code",
      "execution_count": null,
      "id": "c4ddb4db",
      "metadata": {
        "id": "c4ddb4db"
      },
      "outputs": [],
      "source": [
        "geral = mg.groupby(['ano','mes','dia','paciente_endereco_nmMunicipio','vacina_descricao_dose']).count().reset_index()"
      ]
    },
    {
      "cell_type": "code",
      "execution_count": null,
      "id": "972455ae",
      "metadata": {
        "id": "972455ae",
        "outputId": "9f3848a8-aa57-4b24-aace-36ce7a982298"
      },
      "outputs": [
        {
          "data": {
            "text/html": [
              "<div>\n",
              "<style scoped>\n",
              "    .dataframe tbody tr th:only-of-type {\n",
              "        vertical-align: middle;\n",
              "    }\n",
              "\n",
              "    .dataframe tbody tr th {\n",
              "        vertical-align: top;\n",
              "    }\n",
              "\n",
              "    .dataframe thead th {\n",
              "        text-align: right;\n",
              "    }\n",
              "</style>\n",
              "<table border=\"1\" class=\"dataframe\">\n",
              "  <thead>\n",
              "    <tr style=\"text-align: right;\">\n",
              "      <th></th>\n",
              "      <th>ano</th>\n",
              "      <th>mes</th>\n",
              "      <th>dia</th>\n",
              "      <th>paciente_endereco_nmMunicipio</th>\n",
              "      <th>vacina_descricao_dose</th>\n",
              "      <th>paciente_idade</th>\n",
              "      <th>paciente_enumSexoBiologico</th>\n",
              "      <th>paciente_endereco_uf</th>\n",
              "      <th>vacina_grupoAtendimento_nome</th>\n",
              "      <th>vacina_fabricante_nome</th>\n",
              "      <th>vacina_dataAplicacao</th>\n",
              "    </tr>\n",
              "  </thead>\n",
              "  <tbody>\n",
              "    <tr>\n",
              "      <th>0</th>\n",
              "      <td>1937</td>\n",
              "      <td>janeiro</td>\n",
              "      <td>25</td>\n",
              "      <td>BELO HORIZONTE</td>\n",
              "      <td>2ª Dose</td>\n",
              "      <td>2</td>\n",
              "      <td>2</td>\n",
              "      <td>2</td>\n",
              "      <td>2</td>\n",
              "      <td>2</td>\n",
              "      <td>2</td>\n",
              "    </tr>\n",
              "    <tr>\n",
              "      <th>1</th>\n",
              "      <td>1938</td>\n",
              "      <td>janeiro</td>\n",
              "      <td>5</td>\n",
              "      <td>BELO HORIZONTE</td>\n",
              "      <td>2ª Dose</td>\n",
              "      <td>2</td>\n",
              "      <td>2</td>\n",
              "      <td>2</td>\n",
              "      <td>2</td>\n",
              "      <td>2</td>\n",
              "      <td>2</td>\n",
              "    </tr>\n",
              "    <tr>\n",
              "      <th>2</th>\n",
              "      <td>1947</td>\n",
              "      <td>outubro</td>\n",
              "      <td>25</td>\n",
              "      <td>BELO HORIZONTE</td>\n",
              "      <td>Reforço</td>\n",
              "      <td>2</td>\n",
              "      <td>2</td>\n",
              "      <td>2</td>\n",
              "      <td>2</td>\n",
              "      <td>2</td>\n",
              "      <td>2</td>\n",
              "    </tr>\n",
              "    <tr>\n",
              "      <th>3</th>\n",
              "      <td>1949</td>\n",
              "      <td>julho</td>\n",
              "      <td>28</td>\n",
              "      <td>BELO HORIZONTE</td>\n",
              "      <td>Reforço</td>\n",
              "      <td>2</td>\n",
              "      <td>2</td>\n",
              "      <td>2</td>\n",
              "      <td>2</td>\n",
              "      <td>2</td>\n",
              "      <td>2</td>\n",
              "    </tr>\n",
              "    <tr>\n",
              "      <th>4</th>\n",
              "      <td>1957</td>\n",
              "      <td>abril</td>\n",
              "      <td>6</td>\n",
              "      <td>BELO HORIZONTE</td>\n",
              "      <td>2ª Dose</td>\n",
              "      <td>1</td>\n",
              "      <td>1</td>\n",
              "      <td>1</td>\n",
              "      <td>1</td>\n",
              "      <td>1</td>\n",
              "      <td>1</td>\n",
              "    </tr>\n",
              "    <tr>\n",
              "      <th>...</th>\n",
              "      <td>...</td>\n",
              "      <td>...</td>\n",
              "      <td>...</td>\n",
              "      <td>...</td>\n",
              "      <td>...</td>\n",
              "      <td>...</td>\n",
              "      <td>...</td>\n",
              "      <td>...</td>\n",
              "      <td>...</td>\n",
              "      <td>...</td>\n",
              "      <td>...</td>\n",
              "    </tr>\n",
              "    <tr>\n",
              "      <th>873448</th>\n",
              "      <td>2022</td>\n",
              "      <td>janeiro</td>\n",
              "      <td>31</td>\n",
              "      <td>VOTUPORANGA</td>\n",
              "      <td>Reforço</td>\n",
              "      <td>2</td>\n",
              "      <td>2</td>\n",
              "      <td>2</td>\n",
              "      <td>2</td>\n",
              "      <td>2</td>\n",
              "      <td>2</td>\n",
              "    </tr>\n",
              "    <tr>\n",
              "      <th>873449</th>\n",
              "      <td>2022</td>\n",
              "      <td>janeiro</td>\n",
              "      <td>31</td>\n",
              "      <td>WENCESLAU BRAZ</td>\n",
              "      <td>Reforço</td>\n",
              "      <td>26</td>\n",
              "      <td>26</td>\n",
              "      <td>26</td>\n",
              "      <td>26</td>\n",
              "      <td>26</td>\n",
              "      <td>26</td>\n",
              "    </tr>\n",
              "    <tr>\n",
              "      <th>873450</th>\n",
              "      <td>2022</td>\n",
              "      <td>janeiro</td>\n",
              "      <td>31</td>\n",
              "      <td>WENCESLAU GUIMARAES</td>\n",
              "      <td>Reforço</td>\n",
              "      <td>1</td>\n",
              "      <td>1</td>\n",
              "      <td>1</td>\n",
              "      <td>1</td>\n",
              "      <td>1</td>\n",
              "      <td>1</td>\n",
              "    </tr>\n",
              "    <tr>\n",
              "      <th>873451</th>\n",
              "      <td>2022</td>\n",
              "      <td>janeiro</td>\n",
              "      <td>31</td>\n",
              "      <td>XANXERE</td>\n",
              "      <td>2ª Dose</td>\n",
              "      <td>1</td>\n",
              "      <td>1</td>\n",
              "      <td>1</td>\n",
              "      <td>1</td>\n",
              "      <td>1</td>\n",
              "      <td>1</td>\n",
              "    </tr>\n",
              "    <tr>\n",
              "      <th>873452</th>\n",
              "      <td>2022</td>\n",
              "      <td>janeiro</td>\n",
              "      <td>31</td>\n",
              "      <td>XINGUARA</td>\n",
              "      <td>Reforço</td>\n",
              "      <td>1</td>\n",
              "      <td>1</td>\n",
              "      <td>1</td>\n",
              "      <td>1</td>\n",
              "      <td>1</td>\n",
              "      <td>1</td>\n",
              "    </tr>\n",
              "  </tbody>\n",
              "</table>\n",
              "<p>873453 rows × 11 columns</p>\n",
              "</div>"
            ],
            "text/plain": [
              "         ano      mes  dia paciente_endereco_nmMunicipio  \\\n",
              "0       1937  janeiro   25                BELO HORIZONTE   \n",
              "1       1938  janeiro    5                BELO HORIZONTE   \n",
              "2       1947  outubro   25                BELO HORIZONTE   \n",
              "3       1949    julho   28                BELO HORIZONTE   \n",
              "4       1957    abril    6                BELO HORIZONTE   \n",
              "...      ...      ...  ...                           ...   \n",
              "873448  2022  janeiro   31                   VOTUPORANGA   \n",
              "873449  2022  janeiro   31                WENCESLAU BRAZ   \n",
              "873450  2022  janeiro   31           WENCESLAU GUIMARAES   \n",
              "873451  2022  janeiro   31                       XANXERE   \n",
              "873452  2022  janeiro   31                      XINGUARA   \n",
              "\n",
              "       vacina_descricao_dose  paciente_idade  paciente_enumSexoBiologico  \\\n",
              "0                    2ª Dose               2                           2   \n",
              "1                    2ª Dose               2                           2   \n",
              "2                    Reforço               2                           2   \n",
              "3                    Reforço               2                           2   \n",
              "4                    2ª Dose               1                           1   \n",
              "...                      ...             ...                         ...   \n",
              "873448               Reforço               2                           2   \n",
              "873449               Reforço              26                          26   \n",
              "873450               Reforço               1                           1   \n",
              "873451               2ª Dose               1                           1   \n",
              "873452               Reforço               1                           1   \n",
              "\n",
              "        paciente_endereco_uf  vacina_grupoAtendimento_nome  \\\n",
              "0                          2                             2   \n",
              "1                          2                             2   \n",
              "2                          2                             2   \n",
              "3                          2                             2   \n",
              "4                          1                             1   \n",
              "...                      ...                           ...   \n",
              "873448                     2                             2   \n",
              "873449                    26                            26   \n",
              "873450                     1                             1   \n",
              "873451                     1                             1   \n",
              "873452                     1                             1   \n",
              "\n",
              "        vacina_fabricante_nome  vacina_dataAplicacao  \n",
              "0                            2                     2  \n",
              "1                            2                     2  \n",
              "2                            2                     2  \n",
              "3                            2                     2  \n",
              "4                            1                     1  \n",
              "...                        ...                   ...  \n",
              "873448                       2                     2  \n",
              "873449                      26                    26  \n",
              "873450                       1                     1  \n",
              "873451                       1                     1  \n",
              "873452                       1                     1  \n",
              "\n",
              "[873453 rows x 11 columns]"
            ]
          },
          "execution_count": 19,
          "metadata": {},
          "output_type": "execute_result"
        }
      ],
      "source": [
        "geral"
      ]
    },
    {
      "cell_type": "code",
      "execution_count": null,
      "id": "1bc8f115",
      "metadata": {
        "id": "1bc8f115",
        "outputId": "9a9dc62c-5c07-40f4-8d19-1cb58003c792"
      },
      "outputs": [
        {
          "data": {
            "text/plain": [
              "ano                              0\n",
              "mes                              0\n",
              "dia                              0\n",
              "paciente_endereco_nmMunicipio    0\n",
              "vacina_descricao_dose            0\n",
              "paciente_idade                   0\n",
              "paciente_enumSexoBiologico       0\n",
              "paciente_endereco_uf             0\n",
              "vacina_grupoAtendimento_nome     0\n",
              "vacina_fabricante_nome           0\n",
              "vacina_dataAplicacao             0\n",
              "dtype: int64"
            ]
          },
          "execution_count": 20,
          "metadata": {},
          "output_type": "execute_result"
        }
      ],
      "source": [
        "geral.isnull().sum()"
      ]
    },
    {
      "cell_type": "code",
      "execution_count": null,
      "id": "3869356c",
      "metadata": {
        "id": "3869356c",
        "outputId": "a6d8f51d-8150-4970-e3d0-cb08c4f98eae"
      },
      "outputs": [
        {
          "data": {
            "text/plain": [
              "Index(['ano', 'mes', 'dia', 'paciente_endereco_nmMunicipio',\n",
              "       'vacina_descricao_dose', 'paciente_idade', 'paciente_enumSexoBiologico',\n",
              "       'paciente_endereco_uf', 'vacina_grupoAtendimento_nome',\n",
              "       'vacina_fabricante_nome', 'vacina_dataAplicacao'],\n",
              "      dtype='object')"
            ]
          },
          "execution_count": 21,
          "metadata": {},
          "output_type": "execute_result"
        }
      ],
      "source": [
        "geral.columns"
      ]
    },
    {
      "cell_type": "code",
      "execution_count": null,
      "id": "e27fd589",
      "metadata": {
        "id": "e27fd589",
        "outputId": "5b4da5ec-2d57-4c7c-c8d7-36d6ade2cf26"
      },
      "outputs": [
        {
          "data": {
            "text/html": [
              "<div>\n",
              "<style scoped>\n",
              "    .dataframe tbody tr th:only-of-type {\n",
              "        vertical-align: middle;\n",
              "    }\n",
              "\n",
              "    .dataframe tbody tr th {\n",
              "        vertical-align: top;\n",
              "    }\n",
              "\n",
              "    .dataframe thead th {\n",
              "        text-align: right;\n",
              "    }\n",
              "</style>\n",
              "<table border=\"1\" class=\"dataframe\">\n",
              "  <thead>\n",
              "    <tr style=\"text-align: right;\">\n",
              "      <th></th>\n",
              "      <th>ano</th>\n",
              "      <th>mes</th>\n",
              "      <th>dia</th>\n",
              "      <th>paciente_endereco_nmMunicipio</th>\n",
              "      <th>vacina_descricao_dose</th>\n",
              "      <th>paciente_idade</th>\n",
              "      <th>paciente_enumSexoBiologico</th>\n",
              "      <th>paciente_endereco_uf</th>\n",
              "      <th>vacina_grupoAtendimento_nome</th>\n",
              "      <th>vacina_fabricante_nome</th>\n",
              "      <th>vacina_dataAplicacao</th>\n",
              "    </tr>\n",
              "  </thead>\n",
              "  <tbody>\n",
              "    <tr>\n",
              "      <th>0</th>\n",
              "      <td>1937</td>\n",
              "      <td>janeiro</td>\n",
              "      <td>25</td>\n",
              "      <td>BELO HORIZONTE</td>\n",
              "      <td>2ª Dose</td>\n",
              "      <td>2</td>\n",
              "      <td>2</td>\n",
              "      <td>2</td>\n",
              "      <td>2</td>\n",
              "      <td>2</td>\n",
              "      <td>2</td>\n",
              "    </tr>\n",
              "    <tr>\n",
              "      <th>1</th>\n",
              "      <td>1938</td>\n",
              "      <td>janeiro</td>\n",
              "      <td>5</td>\n",
              "      <td>BELO HORIZONTE</td>\n",
              "      <td>2ª Dose</td>\n",
              "      <td>2</td>\n",
              "      <td>2</td>\n",
              "      <td>2</td>\n",
              "      <td>2</td>\n",
              "      <td>2</td>\n",
              "      <td>2</td>\n",
              "    </tr>\n",
              "    <tr>\n",
              "      <th>2</th>\n",
              "      <td>1947</td>\n",
              "      <td>outubro</td>\n",
              "      <td>25</td>\n",
              "      <td>BELO HORIZONTE</td>\n",
              "      <td>Reforço</td>\n",
              "      <td>2</td>\n",
              "      <td>2</td>\n",
              "      <td>2</td>\n",
              "      <td>2</td>\n",
              "      <td>2</td>\n",
              "      <td>2</td>\n",
              "    </tr>\n",
              "    <tr>\n",
              "      <th>3</th>\n",
              "      <td>1949</td>\n",
              "      <td>julho</td>\n",
              "      <td>28</td>\n",
              "      <td>BELO HORIZONTE</td>\n",
              "      <td>Reforço</td>\n",
              "      <td>2</td>\n",
              "      <td>2</td>\n",
              "      <td>2</td>\n",
              "      <td>2</td>\n",
              "      <td>2</td>\n",
              "      <td>2</td>\n",
              "    </tr>\n",
              "    <tr>\n",
              "      <th>4</th>\n",
              "      <td>1957</td>\n",
              "      <td>abril</td>\n",
              "      <td>6</td>\n",
              "      <td>BELO HORIZONTE</td>\n",
              "      <td>2ª Dose</td>\n",
              "      <td>1</td>\n",
              "      <td>1</td>\n",
              "      <td>1</td>\n",
              "      <td>1</td>\n",
              "      <td>1</td>\n",
              "      <td>1</td>\n",
              "    </tr>\n",
              "    <tr>\n",
              "      <th>...</th>\n",
              "      <td>...</td>\n",
              "      <td>...</td>\n",
              "      <td>...</td>\n",
              "      <td>...</td>\n",
              "      <td>...</td>\n",
              "      <td>...</td>\n",
              "      <td>...</td>\n",
              "      <td>...</td>\n",
              "      <td>...</td>\n",
              "      <td>...</td>\n",
              "      <td>...</td>\n",
              "    </tr>\n",
              "    <tr>\n",
              "      <th>873448</th>\n",
              "      <td>2022</td>\n",
              "      <td>janeiro</td>\n",
              "      <td>31</td>\n",
              "      <td>VOTUPORANGA</td>\n",
              "      <td>Reforço</td>\n",
              "      <td>2</td>\n",
              "      <td>2</td>\n",
              "      <td>2</td>\n",
              "      <td>2</td>\n",
              "      <td>2</td>\n",
              "      <td>2</td>\n",
              "    </tr>\n",
              "    <tr>\n",
              "      <th>873449</th>\n",
              "      <td>2022</td>\n",
              "      <td>janeiro</td>\n",
              "      <td>31</td>\n",
              "      <td>WENCESLAU BRAZ</td>\n",
              "      <td>Reforço</td>\n",
              "      <td>26</td>\n",
              "      <td>26</td>\n",
              "      <td>26</td>\n",
              "      <td>26</td>\n",
              "      <td>26</td>\n",
              "      <td>26</td>\n",
              "    </tr>\n",
              "    <tr>\n",
              "      <th>873450</th>\n",
              "      <td>2022</td>\n",
              "      <td>janeiro</td>\n",
              "      <td>31</td>\n",
              "      <td>WENCESLAU GUIMARAES</td>\n",
              "      <td>Reforço</td>\n",
              "      <td>1</td>\n",
              "      <td>1</td>\n",
              "      <td>1</td>\n",
              "      <td>1</td>\n",
              "      <td>1</td>\n",
              "      <td>1</td>\n",
              "    </tr>\n",
              "    <tr>\n",
              "      <th>873451</th>\n",
              "      <td>2022</td>\n",
              "      <td>janeiro</td>\n",
              "      <td>31</td>\n",
              "      <td>XANXERE</td>\n",
              "      <td>2ª Dose</td>\n",
              "      <td>1</td>\n",
              "      <td>1</td>\n",
              "      <td>1</td>\n",
              "      <td>1</td>\n",
              "      <td>1</td>\n",
              "      <td>1</td>\n",
              "    </tr>\n",
              "    <tr>\n",
              "      <th>873452</th>\n",
              "      <td>2022</td>\n",
              "      <td>janeiro</td>\n",
              "      <td>31</td>\n",
              "      <td>XINGUARA</td>\n",
              "      <td>Reforço</td>\n",
              "      <td>1</td>\n",
              "      <td>1</td>\n",
              "      <td>1</td>\n",
              "      <td>1</td>\n",
              "      <td>1</td>\n",
              "      <td>1</td>\n",
              "    </tr>\n",
              "  </tbody>\n",
              "</table>\n",
              "<p>873453 rows × 11 columns</p>\n",
              "</div>"
            ],
            "text/plain": [
              "         ano      mes  dia paciente_endereco_nmMunicipio  \\\n",
              "0       1937  janeiro   25                BELO HORIZONTE   \n",
              "1       1938  janeiro    5                BELO HORIZONTE   \n",
              "2       1947  outubro   25                BELO HORIZONTE   \n",
              "3       1949    julho   28                BELO HORIZONTE   \n",
              "4       1957    abril    6                BELO HORIZONTE   \n",
              "...      ...      ...  ...                           ...   \n",
              "873448  2022  janeiro   31                   VOTUPORANGA   \n",
              "873449  2022  janeiro   31                WENCESLAU BRAZ   \n",
              "873450  2022  janeiro   31           WENCESLAU GUIMARAES   \n",
              "873451  2022  janeiro   31                       XANXERE   \n",
              "873452  2022  janeiro   31                      XINGUARA   \n",
              "\n",
              "       vacina_descricao_dose  paciente_idade  paciente_enumSexoBiologico  \\\n",
              "0                    2ª Dose               2                           2   \n",
              "1                    2ª Dose               2                           2   \n",
              "2                    Reforço               2                           2   \n",
              "3                    Reforço               2                           2   \n",
              "4                    2ª Dose               1                           1   \n",
              "...                      ...             ...                         ...   \n",
              "873448               Reforço               2                           2   \n",
              "873449               Reforço              26                          26   \n",
              "873450               Reforço               1                           1   \n",
              "873451               2ª Dose               1                           1   \n",
              "873452               Reforço               1                           1   \n",
              "\n",
              "        paciente_endereco_uf  vacina_grupoAtendimento_nome  \\\n",
              "0                          2                             2   \n",
              "1                          2                             2   \n",
              "2                          2                             2   \n",
              "3                          2                             2   \n",
              "4                          1                             1   \n",
              "...                      ...                           ...   \n",
              "873448                     2                             2   \n",
              "873449                    26                            26   \n",
              "873450                     1                             1   \n",
              "873451                     1                             1   \n",
              "873452                     1                             1   \n",
              "\n",
              "        vacina_fabricante_nome  vacina_dataAplicacao  \n",
              "0                            2                     2  \n",
              "1                            2                     2  \n",
              "2                            2                     2  \n",
              "3                            2                     2  \n",
              "4                            1                     1  \n",
              "...                        ...                   ...  \n",
              "873448                       2                     2  \n",
              "873449                      26                    26  \n",
              "873450                       1                     1  \n",
              "873451                       1                     1  \n",
              "873452                       1                     1  \n",
              "\n",
              "[873453 rows x 11 columns]"
            ]
          },
          "execution_count": 22,
          "metadata": {},
          "output_type": "execute_result"
        }
      ],
      "source": [
        "geral"
      ]
    },
    {
      "cell_type": "code",
      "execution_count": null,
      "id": "379a28ec",
      "metadata": {
        "id": "379a28ec"
      },
      "outputs": [],
      "source": [
        "mg1 = mg.groupby(['vacina_dataAplicacao','paciente_endereco_nmMunicipio','vacina_descricao_dose']).sum('vacina_dataAplicacao')"
      ]
    },
    {
      "cell_type": "code",
      "execution_count": null,
      "id": "fd2abc7e",
      "metadata": {
        "id": "fd2abc7e",
        "outputId": "fdb7c26b-866a-465e-e3f8-409fe56d24ce"
      },
      "outputs": [
        {
          "data": {
            "text/html": [
              "<div>\n",
              "<style scoped>\n",
              "    .dataframe tbody tr th:only-of-type {\n",
              "        vertical-align: middle;\n",
              "    }\n",
              "\n",
              "    .dataframe tbody tr th {\n",
              "        vertical-align: top;\n",
              "    }\n",
              "\n",
              "    .dataframe thead th {\n",
              "        text-align: right;\n",
              "    }\n",
              "</style>\n",
              "<table border=\"1\" class=\"dataframe\">\n",
              "  <thead>\n",
              "    <tr style=\"text-align: right;\">\n",
              "      <th></th>\n",
              "      <th></th>\n",
              "      <th></th>\n",
              "      <th>paciente_idade</th>\n",
              "      <th>ano</th>\n",
              "      <th>dia</th>\n",
              "    </tr>\n",
              "    <tr>\n",
              "      <th>vacina_dataAplicacao</th>\n",
              "      <th>paciente_endereco_nmMunicipio</th>\n",
              "      <th>vacina_descricao_dose</th>\n",
              "      <th></th>\n",
              "      <th></th>\n",
              "      <th></th>\n",
              "    </tr>\n",
              "  </thead>\n",
              "  <tbody>\n",
              "    <tr>\n",
              "      <th>1937-01-25</th>\n",
              "      <th>BELO HORIZONTE</th>\n",
              "      <th>2ª Dose</th>\n",
              "      <td>0.0</td>\n",
              "      <td>3874</td>\n",
              "      <td>50</td>\n",
              "    </tr>\n",
              "    <tr>\n",
              "      <th>1938-01-05</th>\n",
              "      <th>BELO HORIZONTE</th>\n",
              "      <th>2ª Dose</th>\n",
              "      <td>0.0</td>\n",
              "      <td>3876</td>\n",
              "      <td>10</td>\n",
              "    </tr>\n",
              "    <tr>\n",
              "      <th>1947-10-25</th>\n",
              "      <th>BELO HORIZONTE</th>\n",
              "      <th>Reforço</th>\n",
              "      <td>0.0</td>\n",
              "      <td>3894</td>\n",
              "      <td>50</td>\n",
              "    </tr>\n",
              "    <tr>\n",
              "      <th>1949-07-28</th>\n",
              "      <th>BELO HORIZONTE</th>\n",
              "      <th>Reforço</th>\n",
              "      <td>0.0</td>\n",
              "      <td>3898</td>\n",
              "      <td>56</td>\n",
              "    </tr>\n",
              "    <tr>\n",
              "      <th>1957-04-06</th>\n",
              "      <th>BELO HORIZONTE</th>\n",
              "      <th>2ª Dose</th>\n",
              "      <td>0.0</td>\n",
              "      <td>1957</td>\n",
              "      <td>6</td>\n",
              "    </tr>\n",
              "    <tr>\n",
              "      <th>...</th>\n",
              "      <th>...</th>\n",
              "      <th>...</th>\n",
              "      <td>...</td>\n",
              "      <td>...</td>\n",
              "      <td>...</td>\n",
              "    </tr>\n",
              "    <tr>\n",
              "      <th rowspan=\"5\" valign=\"top\">2022-02-25</th>\n",
              "      <th>VOTUPORANGA</th>\n",
              "      <th>Reforço</th>\n",
              "      <td>112.0</td>\n",
              "      <td>4044</td>\n",
              "      <td>50</td>\n",
              "    </tr>\n",
              "    <tr>\n",
              "      <th rowspan=\"2\" valign=\"top\">WANDERLEY</th>\n",
              "      <th>1ª Dose</th>\n",
              "      <td>18.0</td>\n",
              "      <td>4044</td>\n",
              "      <td>50</td>\n",
              "    </tr>\n",
              "    <tr>\n",
              "      <th>Reforço</th>\n",
              "      <td>89.0</td>\n",
              "      <td>6066</td>\n",
              "      <td>75</td>\n",
              "    </tr>\n",
              "    <tr>\n",
              "      <th>XINGUARA</th>\n",
              "      <th>Reforço</th>\n",
              "      <td>31.0</td>\n",
              "      <td>2022</td>\n",
              "      <td>25</td>\n",
              "    </tr>\n",
              "    <tr>\n",
              "      <th>XIQUE-XIQUE</th>\n",
              "      <th>Reforço</th>\n",
              "      <td>59.0</td>\n",
              "      <td>4044</td>\n",
              "      <td>50</td>\n",
              "    </tr>\n",
              "  </tbody>\n",
              "</table>\n",
              "<p>873453 rows × 3 columns</p>\n",
              "</div>"
            ],
            "text/plain": [
              "                                                                          paciente_idade  \\\n",
              "vacina_dataAplicacao paciente_endereco_nmMunicipio vacina_descricao_dose                   \n",
              "1937-01-25           BELO HORIZONTE                2ª Dose                           0.0   \n",
              "1938-01-05           BELO HORIZONTE                2ª Dose                           0.0   \n",
              "1947-10-25           BELO HORIZONTE                Reforço                           0.0   \n",
              "1949-07-28           BELO HORIZONTE                Reforço                           0.0   \n",
              "1957-04-06           BELO HORIZONTE                2ª Dose                           0.0   \n",
              "...                                                                                  ...   \n",
              "2022-02-25           VOTUPORANGA                   Reforço                         112.0   \n",
              "                     WANDERLEY                     1ª Dose                          18.0   \n",
              "                                                   Reforço                          89.0   \n",
              "                     XINGUARA                      Reforço                          31.0   \n",
              "                     XIQUE-XIQUE                   Reforço                          59.0   \n",
              "\n",
              "                                                                           ano  \\\n",
              "vacina_dataAplicacao paciente_endereco_nmMunicipio vacina_descricao_dose         \n",
              "1937-01-25           BELO HORIZONTE                2ª Dose                3874   \n",
              "1938-01-05           BELO HORIZONTE                2ª Dose                3876   \n",
              "1947-10-25           BELO HORIZONTE                Reforço                3894   \n",
              "1949-07-28           BELO HORIZONTE                Reforço                3898   \n",
              "1957-04-06           BELO HORIZONTE                2ª Dose                1957   \n",
              "...                                                                        ...   \n",
              "2022-02-25           VOTUPORANGA                   Reforço                4044   \n",
              "                     WANDERLEY                     1ª Dose                4044   \n",
              "                                                   Reforço                6066   \n",
              "                     XINGUARA                      Reforço                2022   \n",
              "                     XIQUE-XIQUE                   Reforço                4044   \n",
              "\n",
              "                                                                          dia  \n",
              "vacina_dataAplicacao paciente_endereco_nmMunicipio vacina_descricao_dose       \n",
              "1937-01-25           BELO HORIZONTE                2ª Dose                 50  \n",
              "1938-01-05           BELO HORIZONTE                2ª Dose                 10  \n",
              "1947-10-25           BELO HORIZONTE                Reforço                 50  \n",
              "1949-07-28           BELO HORIZONTE                Reforço                 56  \n",
              "1957-04-06           BELO HORIZONTE                2ª Dose                  6  \n",
              "...                                                                       ...  \n",
              "2022-02-25           VOTUPORANGA                   Reforço                 50  \n",
              "                     WANDERLEY                     1ª Dose                 50  \n",
              "                                                   Reforço                 75  \n",
              "                     XINGUARA                      Reforço                 25  \n",
              "                     XIQUE-XIQUE                   Reforço                 50  \n",
              "\n",
              "[873453 rows x 3 columns]"
            ]
          },
          "execution_count": 24,
          "metadata": {},
          "output_type": "execute_result"
        }
      ],
      "source": [
        "mg1"
      ]
    },
    {
      "cell_type": "code",
      "execution_count": null,
      "id": "5daf6b08",
      "metadata": {
        "id": "5daf6b08"
      },
      "outputs": [],
      "source": [
        "uberlandia = mg.loc[mg.paciente_endereco_nmMunicipio==\"UBERLANDIA\",:]"
      ]
    },
    {
      "cell_type": "code",
      "execution_count": null,
      "id": "8dca37b6",
      "metadata": {
        "id": "8dca37b6",
        "outputId": "c3c31526-a472-49f4-e5ca-45f8661e8d28"
      },
      "outputs": [
        {
          "name": "stderr",
          "output_type": "stream",
          "text": [
            "C:\\Users\\LUZIAH~1\\AppData\\Local\\Temp/ipykernel_3672/3481321226.py:1: FutureWarning: Treating datetime data as categorical rather than numeric in `.describe` is deprecated and will be removed in a future version of pandas. Specify `datetime_is_numeric=True` to silence this warning and adopt the future behavior now.\n",
            "  uberlandia['vacina_dataAplicacao'].describe()\n"
          ]
        },
        {
          "data": {
            "text/plain": [
              "count                 1387356\n",
              "unique                    396\n",
              "top       2021-08-01 00:00:00\n",
              "freq                    11998\n",
              "first     2021-01-19 00:00:00\n",
              "last      2022-02-25 00:00:00\n",
              "Name: vacina_dataAplicacao, dtype: object"
            ]
          },
          "execution_count": 26,
          "metadata": {},
          "output_type": "execute_result"
        }
      ],
      "source": [
        "uberlandia['vacina_dataAplicacao'].describe()"
      ]
    },
    {
      "cell_type": "code",
      "execution_count": null,
      "id": "0d6af4d3",
      "metadata": {
        "id": "0d6af4d3"
      },
      "outputs": [],
      "source": [
        ""
      ]
    },
    {
      "cell_type": "code",
      "execution_count": null,
      "id": "bb1c2689",
      "metadata": {
        "id": "bb1c2689",
        "outputId": "e920f83c-2bf6-4a70-d12a-4860b3929eb7"
      },
      "outputs": [
        {
          "data": {
            "text/plain": [
              "Index(['paciente_idade', 'paciente_enumSexoBiologico',\n",
              "       'paciente_endereco_nmMunicipio', 'paciente_endereco_uf',\n",
              "       'vacina_grupoAtendimento_nome', 'vacina_fabricante_nome',\n",
              "       'vacina_dataAplicacao', 'vacina_descricao_dose', 'ano', 'mes', 'dia'],\n",
              "      dtype='object')"
            ]
          },
          "execution_count": 27,
          "metadata": {},
          "output_type": "execute_result"
        }
      ],
      "source": [
        "mg.columns"
      ]
    },
    {
      "cell_type": "code",
      "execution_count": null,
      "id": "09b59691",
      "metadata": {
        "id": "09b59691"
      },
      "outputs": [],
      "source": [
        "uberlandia = mg.loc[mg.paciente_endereco_nmMunicipio==\"UBERLANDIA\",['ano', 'mes', 'dia','paciente_endereco_nmMunicipio']]"
      ]
    },
    {
      "cell_type": "code",
      "execution_count": null,
      "id": "aba593fe",
      "metadata": {
        "id": "aba593fe"
      },
      "outputs": [],
      "source": [
        "udi=uberlandia.groupby(['ano','mes','paciente_endereco_nmMunicipio']).count()"
      ]
    },
    {
      "cell_type": "code",
      "execution_count": null,
      "id": "3dc316d4",
      "metadata": {
        "id": "3dc316d4",
        "outputId": "cfde7874-f2f8-4f9f-e03d-192d64c0e043"
      },
      "outputs": [
        {
          "data": {
            "text/html": [
              "<div>\n",
              "<style scoped>\n",
              "    .dataframe tbody tr th:only-of-type {\n",
              "        vertical-align: middle;\n",
              "    }\n",
              "\n",
              "    .dataframe tbody tr th {\n",
              "        vertical-align: top;\n",
              "    }\n",
              "\n",
              "    .dataframe thead th {\n",
              "        text-align: right;\n",
              "    }\n",
              "</style>\n",
              "<table border=\"1\" class=\"dataframe\">\n",
              "  <thead>\n",
              "    <tr style=\"text-align: right;\">\n",
              "      <th></th>\n",
              "      <th></th>\n",
              "      <th></th>\n",
              "      <th>dia</th>\n",
              "    </tr>\n",
              "    <tr>\n",
              "      <th>ano</th>\n",
              "      <th>mes</th>\n",
              "      <th>paciente_endereco_nmMunicipio</th>\n",
              "      <th></th>\n",
              "    </tr>\n",
              "  </thead>\n",
              "  <tbody>\n",
              "    <tr>\n",
              "      <th rowspan=\"12\" valign=\"top\">2021</th>\n",
              "      <th>abril</th>\n",
              "      <th>UBERLANDIA</th>\n",
              "      <td>88339</td>\n",
              "    </tr>\n",
              "    <tr>\n",
              "      <th>agosto</th>\n",
              "      <th>UBERLANDIA</th>\n",
              "      <td>137335</td>\n",
              "    </tr>\n",
              "    <tr>\n",
              "      <th>dezembro</th>\n",
              "      <th>UBERLANDIA</th>\n",
              "      <td>87327</td>\n",
              "    </tr>\n",
              "    <tr>\n",
              "      <th>fevereiro</th>\n",
              "      <th>UBERLANDIA</th>\n",
              "      <td>21449</td>\n",
              "    </tr>\n",
              "    <tr>\n",
              "      <th>janeiro</th>\n",
              "      <th>UBERLANDIA</th>\n",
              "      <td>5051</td>\n",
              "    </tr>\n",
              "    <tr>\n",
              "      <th>julho</th>\n",
              "      <th>UBERLANDIA</th>\n",
              "      <td>158070</td>\n",
              "    </tr>\n",
              "    <tr>\n",
              "      <th>junho</th>\n",
              "      <th>UBERLANDIA</th>\n",
              "      <td>86362</td>\n",
              "    </tr>\n",
              "    <tr>\n",
              "      <th>maio</th>\n",
              "      <th>UBERLANDIA</th>\n",
              "      <td>76849</td>\n",
              "    </tr>\n",
              "    <tr>\n",
              "      <th>marco</th>\n",
              "      <th>UBERLANDIA</th>\n",
              "      <td>39364</td>\n",
              "    </tr>\n",
              "    <tr>\n",
              "      <th>novembro</th>\n",
              "      <th>UBERLANDIA</th>\n",
              "      <td>111885</td>\n",
              "    </tr>\n",
              "    <tr>\n",
              "      <th>outubro</th>\n",
              "      <th>UBERLANDIA</th>\n",
              "      <td>183998</td>\n",
              "    </tr>\n",
              "    <tr>\n",
              "      <th>setembro</th>\n",
              "      <th>UBERLANDIA</th>\n",
              "      <td>193523</td>\n",
              "    </tr>\n",
              "    <tr>\n",
              "      <th rowspan=\"2\" valign=\"top\">2022</th>\n",
              "      <th>fevereiro</th>\n",
              "      <th>UBERLANDIA</th>\n",
              "      <td>90948</td>\n",
              "    </tr>\n",
              "    <tr>\n",
              "      <th>janeiro</th>\n",
              "      <th>UBERLANDIA</th>\n",
              "      <td>106856</td>\n",
              "    </tr>\n",
              "  </tbody>\n",
              "</table>\n",
              "</div>"
            ],
            "text/plain": [
              "                                                 dia\n",
              "ano  mes       paciente_endereco_nmMunicipio        \n",
              "2021 abril     UBERLANDIA                      88339\n",
              "     agosto    UBERLANDIA                     137335\n",
              "     dezembro  UBERLANDIA                      87327\n",
              "     fevereiro UBERLANDIA                      21449\n",
              "     janeiro   UBERLANDIA                       5051\n",
              "     julho     UBERLANDIA                     158070\n",
              "     junho     UBERLANDIA                      86362\n",
              "     maio      UBERLANDIA                      76849\n",
              "     marco     UBERLANDIA                      39364\n",
              "     novembro  UBERLANDIA                     111885\n",
              "     outubro   UBERLANDIA                     183998\n",
              "     setembro  UBERLANDIA                     193523\n",
              "2022 fevereiro UBERLANDIA                      90948\n",
              "     janeiro   UBERLANDIA                     106856"
            ]
          },
          "execution_count": 30,
          "metadata": {},
          "output_type": "execute_result"
        }
      ],
      "source": [
        "udi.head(30)"
      ]
    },
    {
      "cell_type": "code",
      "execution_count": null,
      "id": "fd03aefd",
      "metadata": {
        "id": "fd03aefd"
      },
      "outputs": [],
      "source": [
        "dosesUdi = mg.loc[mg.paciente_endereco_nmMunicipio==\"UBERLANDIA\",['ano','vacina_descricao_dose']]"
      ]
    },
    {
      "cell_type": "code",
      "execution_count": null,
      "id": "cb195a20",
      "metadata": {
        "id": "cb195a20",
        "outputId": "33c485d2-57ce-4bbc-9428-2dc8afb47e10"
      },
      "outputs": [
        {
          "data": {
            "text/html": [
              "<div>\n",
              "<style scoped>\n",
              "    .dataframe tbody tr th:only-of-type {\n",
              "        vertical-align: middle;\n",
              "    }\n",
              "\n",
              "    .dataframe tbody tr th {\n",
              "        vertical-align: top;\n",
              "    }\n",
              "\n",
              "    .dataframe thead th {\n",
              "        text-align: right;\n",
              "    }\n",
              "</style>\n",
              "<table border=\"1\" class=\"dataframe\">\n",
              "  <thead>\n",
              "    <tr style=\"text-align: right;\">\n",
              "      <th></th>\n",
              "      <th>ano</th>\n",
              "      <th>vacina_descricao_dose</th>\n",
              "    </tr>\n",
              "  </thead>\n",
              "  <tbody>\n",
              "    <tr>\n",
              "      <th>0</th>\n",
              "      <td>2021</td>\n",
              "      <td>1ª Dose</td>\n",
              "    </tr>\n",
              "    <tr>\n",
              "      <th>1</th>\n",
              "      <td>2021</td>\n",
              "      <td>2ª Dose</td>\n",
              "    </tr>\n",
              "    <tr>\n",
              "      <th>2</th>\n",
              "      <td>2021</td>\n",
              "      <td>Dose</td>\n",
              "    </tr>\n",
              "    <tr>\n",
              "      <th>3</th>\n",
              "      <td>2021</td>\n",
              "      <td>Dose Adicional</td>\n",
              "    </tr>\n",
              "    <tr>\n",
              "      <th>4</th>\n",
              "      <td>2021</td>\n",
              "      <td>Reforço</td>\n",
              "    </tr>\n",
              "    <tr>\n",
              "      <th>5</th>\n",
              "      <td>2021</td>\n",
              "      <td>Única</td>\n",
              "    </tr>\n",
              "    <tr>\n",
              "      <th>6</th>\n",
              "      <td>2022</td>\n",
              "      <td>1ª Dose</td>\n",
              "    </tr>\n",
              "    <tr>\n",
              "      <th>7</th>\n",
              "      <td>2022</td>\n",
              "      <td>2ª Dose</td>\n",
              "    </tr>\n",
              "    <tr>\n",
              "      <th>8</th>\n",
              "      <td>2022</td>\n",
              "      <td>Dose</td>\n",
              "    </tr>\n",
              "    <tr>\n",
              "      <th>9</th>\n",
              "      <td>2022</td>\n",
              "      <td>Dose Adicional</td>\n",
              "    </tr>\n",
              "    <tr>\n",
              "      <th>10</th>\n",
              "      <td>2022</td>\n",
              "      <td>Reforço</td>\n",
              "    </tr>\n",
              "    <tr>\n",
              "      <th>11</th>\n",
              "      <td>2022</td>\n",
              "      <td>Única</td>\n",
              "    </tr>\n",
              "  </tbody>\n",
              "</table>\n",
              "</div>"
            ],
            "text/plain": [
              "     ano vacina_descricao_dose\n",
              "0   2021               1ª Dose\n",
              "1   2021               2ª Dose\n",
              "2   2021                  Dose\n",
              "3   2021        Dose Adicional\n",
              "4   2021               Reforço\n",
              "5   2021                 Única\n",
              "6   2022               1ª Dose\n",
              "7   2022               2ª Dose\n",
              "8   2022                  Dose\n",
              "9   2022        Dose Adicional\n",
              "10  2022               Reforço\n",
              "11  2022                 Única"
            ]
          },
          "execution_count": 45,
          "metadata": {},
          "output_type": "execute_result"
        }
      ],
      "source": [
        "dosesUdi.groupby(['ano','vacina_descricao_dose']).count().reset_index()"
      ]
    },
    {
      "cell_type": "code",
      "execution_count": null,
      "id": "d4d3e7b5",
      "metadata": {
        "id": "d4d3e7b5",
        "outputId": "c5d18af7-21b5-4bbf-80ff-eb2e4c2db55d"
      },
      "outputs": [
        {
          "name": "stdout",
          "output_type": "stream",
          "text": [
            "<class 'pandas.core.frame.DataFrame'>\n",
            "Int64Index: 1387356 entries, 72 to 12759583\n",
            "Data columns (total 4 columns):\n",
            " #   Column                         Non-Null Count    Dtype \n",
            "---  ------                         --------------    ----- \n",
            " 0   ano                            1387356 non-null  int64 \n",
            " 1   mes                            1387356 non-null  object\n",
            " 2   dia                            1387356 non-null  int64 \n",
            " 3   paciente_endereco_nmMunicipio  1387356 non-null  object\n",
            "dtypes: int64(2), object(2)\n",
            "memory usage: 52.9+ MB\n"
          ]
        }
      ],
      "source": [
        "uberlandia.info()"
      ]
    },
    {
      "cell_type": "code",
      "execution_count": null,
      "id": "afdef1a7",
      "metadata": {
        "id": "afdef1a7"
      },
      "outputs": [],
      "source": [
        "udi2=mg.loc[mg.paciente_endereco_nmMunicipio==\"UBERLANDIA\",['vacina_dataAplicacao','vacina_descricao_dose']]"
      ]
    },
    {
      "cell_type": "code",
      "execution_count": null,
      "id": "36d68cab",
      "metadata": {
        "id": "36d68cab"
      },
      "outputs": [],
      "source": [
        "data = mg.loc[mg.ano==2021,:]"
      ]
    },
    {
      "cell_type": "code",
      "execution_count": null,
      "id": "308f97d0",
      "metadata": {
        "id": "308f97d0",
        "outputId": "f3e312f3-476a-43ab-ff2f-6daa49ded0e6"
      },
      "outputs": [
        {
          "data": {
            "text/plain": [
              "Timestamp('2021-01-02 00:00:00')"
            ]
          },
          "execution_count": 37,
          "metadata": {},
          "output_type": "execute_result"
        }
      ],
      "source": [
        "data['vacina_dataAplicacao'].min()"
      ]
    },
    {
      "cell_type": "code",
      "execution_count": null,
      "id": "6c370d6d",
      "metadata": {
        "id": "6c370d6d"
      },
      "outputs": [],
      "source": [
        "dia = data.loc[data.vacina_dataAplicacao==\"2021-01-02\",:]"
      ]
    },
    {
      "cell_type": "code",
      "execution_count": null,
      "id": "26c9c53a",
      "metadata": {
        "id": "26c9c53a",
        "outputId": "d697d246-b34c-423c-c388-cef86a3af127"
      },
      "outputs": [
        {
          "data": {
            "text/html": [
              "<div>\n",
              "<style scoped>\n",
              "    .dataframe tbody tr th:only-of-type {\n",
              "        vertical-align: middle;\n",
              "    }\n",
              "\n",
              "    .dataframe tbody tr th {\n",
              "        vertical-align: top;\n",
              "    }\n",
              "\n",
              "    .dataframe thead th {\n",
              "        text-align: right;\n",
              "    }\n",
              "</style>\n",
              "<table border=\"1\" class=\"dataframe\">\n",
              "  <thead>\n",
              "    <tr style=\"text-align: right;\">\n",
              "      <th></th>\n",
              "      <th>paciente_idade</th>\n",
              "      <th>paciente_enumSexoBiologico</th>\n",
              "      <th>paciente_endereco_nmMunicipio</th>\n",
              "      <th>paciente_endereco_uf</th>\n",
              "      <th>vacina_grupoAtendimento_nome</th>\n",
              "      <th>vacina_fabricante_nome</th>\n",
              "      <th>vacina_dataAplicacao</th>\n",
              "      <th>vacina_descricao_dose</th>\n",
              "      <th>ano</th>\n",
              "      <th>mes</th>\n",
              "      <th>dia</th>\n",
              "    </tr>\n",
              "  </thead>\n",
              "  <tbody>\n",
              "    <tr>\n",
              "      <th>12580185</th>\n",
              "      <td>27.0</td>\n",
              "      <td>F</td>\n",
              "      <td>SANTA MARIA DO SUACUI</td>\n",
              "      <td>MG</td>\n",
              "      <td>Pessoas de 18 a 64 anos</td>\n",
              "      <td>ASTRAZENECA/FIOCRUZ</td>\n",
              "      <td>2021-01-02</td>\n",
              "      <td>1ª Dose</td>\n",
              "      <td>2021</td>\n",
              "      <td>janeiro</td>\n",
              "      <td>2</td>\n",
              "    </tr>\n",
              "    <tr>\n",
              "      <th>5417037</th>\n",
              "      <td>33.0</td>\n",
              "      <td>F</td>\n",
              "      <td>BELO HORIZONTE</td>\n",
              "      <td>MG</td>\n",
              "      <td>Outros</td>\n",
              "      <td>ASTRAZENECA/FIOCRUZ</td>\n",
              "      <td>2021-01-02</td>\n",
              "      <td>1ª Dose</td>\n",
              "      <td>2021</td>\n",
              "      <td>janeiro</td>\n",
              "      <td>2</td>\n",
              "    </tr>\n",
              "    <tr>\n",
              "      <th>5417037</th>\n",
              "      <td>33.0</td>\n",
              "      <td>F</td>\n",
              "      <td>BELO HORIZONTE</td>\n",
              "      <td>MG</td>\n",
              "      <td>Outros</td>\n",
              "      <td>ASTRAZENECA/FIOCRUZ</td>\n",
              "      <td>2021-01-02</td>\n",
              "      <td>1ª Dose</td>\n",
              "      <td>2021</td>\n",
              "      <td>janeiro</td>\n",
              "      <td>2</td>\n",
              "    </tr>\n",
              "  </tbody>\n",
              "</table>\n",
              "</div>"
            ],
            "text/plain": [
              "          paciente_idade paciente_enumSexoBiologico  \\\n",
              "12580185            27.0                          F   \n",
              "5417037             33.0                          F   \n",
              "5417037             33.0                          F   \n",
              "\n",
              "         paciente_endereco_nmMunicipio paciente_endereco_uf  \\\n",
              "12580185         SANTA MARIA DO SUACUI                   MG   \n",
              "5417037                 BELO HORIZONTE                   MG   \n",
              "5417037                 BELO HORIZONTE                   MG   \n",
              "\n",
              "         vacina_grupoAtendimento_nome vacina_fabricante_nome  \\\n",
              "12580185      Pessoas de 18 a 64 anos    ASTRAZENECA/FIOCRUZ   \n",
              "5417037                        Outros    ASTRAZENECA/FIOCRUZ   \n",
              "5417037                        Outros    ASTRAZENECA/FIOCRUZ   \n",
              "\n",
              "         vacina_dataAplicacao vacina_descricao_dose   ano      mes  dia  \n",
              "12580185           2021-01-02               1ª Dose  2021  janeiro    2  \n",
              "5417037            2021-01-02               1ª Dose  2021  janeiro    2  \n",
              "5417037            2021-01-02               1ª Dose  2021  janeiro    2  "
            ]
          },
          "execution_count": 39,
          "metadata": {},
          "output_type": "execute_result"
        }
      ],
      "source": [
        "dia"
      ]
    },
    {
      "cell_type": "code",
      "execution_count": null,
      "id": "fa093932",
      "metadata": {
        "id": "fa093932"
      },
      "outputs": [],
      "source": [
        ""
      ]
    },
    {
      "cell_type": "code",
      "execution_count": null,
      "id": "4771c9a5",
      "metadata": {
        "id": "4771c9a5"
      },
      "outputs": [],
      "source": [
        ""
      ]
    }
  ],
  "metadata": {
    "kernelspec": {
      "display_name": "Python 3 (ipykernel)",
      "language": "python",
      "name": "python3"
    },
    "language_info": {
      "codemirror_mode": {
        "name": "ipython",
        "version": 3
      },
      "file_extension": ".py",
      "mimetype": "text/x-python",
      "name": "python",
      "nbconvert_exporter": "python",
      "pygments_lexer": "ipython3",
      "version": "3.9.7"
    },
    "colab": {
      "name": "vacina.ipynb",
      "provenance": [],
      "include_colab_link": true
    }
  },
  "nbformat": 4,
  "nbformat_minor": 5
}